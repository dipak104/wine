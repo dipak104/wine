{
 "cells": [
  {
   "cell_type": "code",
   "execution_count": 2,
   "id": "30276040-cc38-4619-a828-19de34454d99",
   "metadata": {},
   "outputs": [
    {
     "data": {
      "text/plain": [
       "'C:\\\\Users\\\\dipak\\\\Desktop\\\\wine\\\\notebook'"
      ]
     },
     "execution_count": 2,
     "metadata": {},
     "output_type": "execute_result"
    }
   ],
   "source": [
    "pwd"
   ]
  },
  {
   "cell_type": "code",
   "execution_count": 4,
   "id": "ebdd4f4a-9315-445e-83fc-786f942fb68a",
   "metadata": {},
   "outputs": [
    {
     "name": "stdout",
     "output_type": "stream",
     "text": [
      "                             run_id experiment_id    status  \\\n",
      "0  4bd1f88d8b224c80afdec04295780d6b             1  FINISHED   \n",
      "1  d68a1ddd24154e7fb3308f23a87075c6             1  FINISHED   \n",
      "2  9c6b61946f90426dbd3f8b12e89d3be6             1  FINISHED   \n",
      "\n",
      "                                        artifact_uri  \\\n",
      "0  ./artifacts/1/4bd1f88d8b224c80afdec04295780d6b...   \n",
      "1  ./artifacts/1/d68a1ddd24154e7fb3308f23a87075c6...   \n",
      "2  ./artifacts/1/9c6b61946f90426dbd3f8b12e89d3be6...   \n",
      "\n",
      "                        start_time                         end_time  \\\n",
      "0 2021-12-27 15:26:48.830000+00:00 2021-12-27 15:26:53.322000+00:00   \n",
      "1 2021-12-27 15:26:20.761000+00:00 2021-12-27 15:26:25.025000+00:00   \n",
      "2 2021-12-27 15:24:40.059000+00:00 2021-12-27 15:24:44.358000+00:00   \n",
      "\n",
      "   metrics.r2  metrics.mae  metrics.rmse params.alpha params.l1_ratio  \\\n",
      "0    0.109640     0.618863      0.762795          0.5             0.5   \n",
      "1    0.008382     0.659818      0.805002         0.88            0.89   \n",
      "2    0.007544     0.658492      0.805342         0.91             0.6   \n",
      "\n",
      "  tags.mlflow.source.type tags.mlflow.user  \\\n",
      "0                   LOCAL            dipak   \n",
      "1                   LOCAL            dipak   \n",
      "2                   LOCAL            dipak   \n",
      "\n",
      "              tags.mlflow.source.git.commit    tags.mlflow.source.name  \\\n",
      "0  bda78f84c84de25b59f8530a7a15654c31c57abe  src\\train_and_evaluate.py   \n",
      "1  bda78f84c84de25b59f8530a7a15654c31c57abe  src\\train_and_evaluate.py   \n",
      "2  bda78f84c84de25b59f8530a7a15654c31c57abe  src\\train_and_evaluate.py   \n",
      "\n",
      "                       tags.mlflow.log-model.history tags.mlflow.runName  \n",
      "0  [{\"run_id\": \"4bd1f88d8b224c80afdec04295780d6b\"...               mlops  \n",
      "1  [{\"run_id\": \"d68a1ddd24154e7fb3308f23a87075c6\"...               mlops  \n",
      "2  [{\"run_id\": \"9c6b61946f90426dbd3f8b12e89d3be6\"...               mlops  \n",
      "{   'creation_timestamp': 1640618813308,\n",
      "    'current_stage': 'Production',\n",
      "    'description': '',\n",
      "    'last_updated_timestamp': 1640624387718,\n",
      "    'name': 'ElasticNetWineModel',\n",
      "    'run_id': '4bd1f88d8b224c80afdec04295780d6b',\n",
      "    'run_link': '',\n",
      "    'source': './artifacts/1/4bd1f88d8b224c80afdec04295780d6b/artifacts/model',\n",
      "    'status': 'READY',\n",
      "    'status_message': '',\n",
      "    'tags': {},\n",
      "    'user_id': '',\n",
      "    'version': '3'}\n"
     ]
    }
   ],
   "source": [
    "from src.get_data import read_params\n",
    "import argparse\n",
    "import mlflow\n",
    "from mlflow.tracking.client import MlflowClient\n",
    "from pprint import pprint\n",
    "import joblib\n",
    "import os\n",
    "\n",
    "os.chdir('C:\\\\Users\\\\dipak\\\\Desktop\\\\wine')\n",
    "\n",
    "\n",
    "def log_production_model(config_path):\n",
    "    config = read_params(config_path)\n",
    "\n",
    "    mlflow_config = config[\"mlflow_config\"]\n",
    "    model_name = mlflow_config[\"registered_model_name\"]\n",
    "    remote_server_uri = mlflow_config[\"remote_server_uri\"]\n",
    "    mlflow.set_tracking_uri(remote_server_uri)\n",
    "\n",
    "\n",
    "    runs = mlflow.search_runs(\"1\")\n",
    "    print(runs)\n",
    "    #print(runs.info.run_id)\n",
    "    lowest = runs[\"metrics.mae\"].sort_values(ascending=True)[0]\n",
    "    lowest_run_id = runs[runs[\"metrics.mae\"] == lowest][\"run_id\"][0]\n",
    "\n",
    "    client = MlflowClient()\n",
    "    for mv in client.search_model_versions(f\"name='{model_name}'\"):\n",
    "        mv = dict(mv)\n",
    "\n",
    "        if mv[\"run_id\"] == lowest_run_id:\n",
    "            current_version = mv[\"version\"]\n",
    "            logged_model = mv[\"source\"]\n",
    "            pprint(mv, indent=4)\n",
    "            client.transition_model_version_stage(name=model_name, version=current_version, stage=\"Production\")\n",
    "        else:\n",
    "            current_version = mv[\"version\"]\n",
    "            client.transition_model_version_stage(name=model_name, version=current_version, stage=\"Staging\")\n",
    "\n",
    "            \n",
    "log_production_model(\"params.yaml\")"
   ]
  },
  {
   "cell_type": "code",
   "execution_count": null,
   "id": "2f3f64d9-d35d-4bee-bcad-12ad3f455c4b",
   "metadata": {},
   "outputs": [],
   "source": []
  }
 ],
 "metadata": {
  "kernelspec": {
   "display_name": "Python 3 (ipykernel)",
   "language": "python",
   "name": "python3"
  },
  "language_info": {
   "codemirror_mode": {
    "name": "ipython",
    "version": 3
   },
   "file_extension": ".py",
   "mimetype": "text/x-python",
   "name": "python",
   "nbconvert_exporter": "python",
   "pygments_lexer": "ipython3",
   "version": "3.7.11"
  }
 },
 "nbformat": 4,
 "nbformat_minor": 5
}
